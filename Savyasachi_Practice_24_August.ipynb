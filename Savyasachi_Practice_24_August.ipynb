{
 "cells": [
  {
   "cell_type": "code",
   "execution_count": 1,
   "id": "243f06cc",
   "metadata": {},
   "outputs": [
    {
     "name": "stdout",
     "output_type": "stream",
     "text": [
      "18\n",
      "0\n",
      "18\n",
      "3.0\n",
      "1\n",
      "27\n"
     ]
    }
   ],
   "source": [
    "import math\n",
    "# Q1\n",
    "print(9 + 9) # addition\n",
    "print(9 - 9) #Subtraction\n",
    "print(9 * 2) #multiplication\n",
    "print(9 / 3) # division\n",
    "print(9 % 2) # Remainder\n",
    "print(3**3) # sqaure\n"
   ]
  },
  {
   "cell_type": "code",
   "execution_count": 2,
   "id": "1ac8a7ee",
   "metadata": {},
   "outputs": [
    {
     "name": "stdout",
     "output_type": "stream",
     "text": [
      "Interest is 1750.0\n",
      "Total value is :6750.0\n"
     ]
    }
   ],
   "source": [
    "#Q2 SImple interest\n",
    "\n",
    "p = 5000\n",
    "r = 7\n",
    "n = 5\n",
    "i = (p*n*r)/100\n",
    "total = p+i\n",
    "print(f\"Interest is {i}\")#a)\n",
    "print(f\"Total value is :{total}\")"
   ]
  },
  {
   "cell_type": "code",
   "execution_count": 3,
   "id": "8d0c0056",
   "metadata": {},
   "outputs": [
    {
     "name": "stdout",
     "output_type": "stream",
     "text": [
      "Number of years needed is 7.0 years\n"
     ]
    }
   ],
   "source": [
    "#Q3\n",
    "p = 8000\n",
    "r = 8.7\n",
    "i = 4872\n",
    "n = (i*100)/(p*r)\n",
    "print(f\"Number of years needed is {n} years\")\n"
   ]
  },
  {
   "cell_type": "code",
   "execution_count": 4,
   "id": "b15169c9",
   "metadata": {},
   "outputs": [
    {
     "name": "stdout",
     "output_type": "stream",
     "text": [
      "The rate is 6.4%\n"
     ]
    }
   ],
   "source": [
    "#Q4\n",
    "\n",
    "p = 3000\n",
    "i = 768\n",
    "n = 4\n",
    "r = (i*100)/(p*n)\n",
    "print(f\"The rate is {r}%\")\n"
   ]
  },
  {
   "cell_type": "code",
   "execution_count": 5,
   "id": "d81b1622",
   "metadata": {},
   "outputs": [
    {
     "name": "stdout",
     "output_type": "stream",
     "text": [
      "100\n",
      "194.87\n"
     ]
    }
   ],
   "source": [
    "#Exercise 2\n",
    "#Q1\n",
    "savings =100\n",
    "print(savings)\n",
    "growth_multiplier = 1.1\n",
    "result = round(savings*(growth_multiplier**7), 2)\n",
    "print(result)\n"
   ]
  },
  {
   "cell_type": "code",
   "execution_count": 6,
   "id": "977e013a",
   "metadata": {},
   "outputs": [],
   "source": [
    "# Ex- 2 Q2\n",
    "desc = \"compound interest\"\n",
    "profitable = True"
   ]
  },
  {
   "cell_type": "code",
   "execution_count": null,
   "id": "a7f3032b",
   "metadata": {},
   "outputs": [],
   "source": []
  },
  {
   "cell_type": "code",
   "execution_count": 8,
   "id": "e5269870",
   "metadata": {},
   "outputs": [
    {
     "name": "stdout",
     "output_type": "stream",
     "text": [
      "<class 'float'>\n",
      "<class 'str'>\n",
      "<class 'bool'>\n"
     ]
    }
   ],
   "source": [
    "#Ex -2 Q3\n",
    "A = 10.7\n",
    "B = \"This is python course\"\n",
    "C = False\n",
    "print(type(A))\n",
    "print(type(B))\n",
    "print(type(C))\n"
   ]
  },
  {
   "cell_type": "code",
   "execution_count": 9,
   "id": "6d67e37c",
   "metadata": {},
   "outputs": [
    {
     "name": "stdout",
     "output_type": "stream",
     "text": [
      "110.00000000000001\n",
      "<class 'float'>\n"
     ]
    }
   ],
   "source": [
    "# Ex-2 Q3\n",
    "savings =100\n",
    "growth_multiplier = 1.1\n",
    "year1 = savings*growth_multiplier\n",
    "print(year1)\n",
    "print(type(year1))"
   ]
  },
  {
   "cell_type": "code",
   "execution_count": 10,
   "id": "446ba03b",
   "metadata": {},
   "outputs": [
    {
     "name": "stdout",
     "output_type": "stream",
     "text": [
      "compound interestcompound interest\n"
     ]
    }
   ],
   "source": [
    "#Ex -2 Q4\n",
    "desc = \"compound interest\"\n",
    "doubledesc = desc+desc # Will concatenate\n",
    "print(doubledesc)\n"
   ]
  },
  {
   "cell_type": "code",
   "execution_count": 11,
   "id": "d61ef0da",
   "metadata": {},
   "outputs": [
    {
     "name": "stdout",
     "output_type": "stream",
     "text": [
      "I started with 100 and now have 194.87171000000012 Awesome!\n"
     ]
    }
   ],
   "source": [
    "#EX-2 Q5\n",
    "savings =100\n",
    "growth_multiplier = 1.1\n",
    "result = savings*(growth_multiplier**7)\n",
    "print(f\"I started with {savings} and now have {result} Awesome!\")"
   ]
  },
  {
   "cell_type": "code",
   "execution_count": 12,
   "id": "a2e3dc3b",
   "metadata": {},
   "outputs": [],
   "source": [
    "#Ex-2- Q6\n",
    "pi_string = \"3.1415926\"\n",
    "pi_float = float(pi_string)\n",
    "double_pi = 2*pi_float\n"
   ]
  },
  {
   "cell_type": "code",
   "execution_count": null,
   "id": "0a3510c0",
   "metadata": {},
   "outputs": [],
   "source": [
    "#Ex-3 Q1\n",
    "#Even Odd checker\n",
    "\n",
    "nu= float(input(\"Enter the number please.\\n\"))\n",
    "if nu%2 == 0:\n",
    "    print(\"Even\")\n",
    "elif nu%2 !=0:\n",
    "    print(\"Odd\")\n"
   ]
  },
  {
   "cell_type": "code",
   "execution_count": null,
   "id": "3408ef60",
   "metadata": {},
   "outputs": [],
   "source": [
    "\n",
    "#Ex-3 Q3\n",
    "#Celcius to Fahrenheit\n",
    "c = float(input(\"Enter the temperature in degree Celcius plase.\\n\"))\n",
    "f = 32 + (1.8*c)\n",
    "print(f\"The temperature in Fahrenheit is: {f}\")\n"
   ]
  },
  {
   "cell_type": "code",
   "execution_count": null,
   "id": "7a3fb3d7",
   "metadata": {},
   "outputs": [],
   "source": []
  },
  {
   "cell_type": "code",
   "execution_count": null,
   "id": "29af6f1b",
   "metadata": {},
   "outputs": [],
   "source": [
    "#Ex-3 Q4\n",
    "#Area of the triangle\n",
    "import math\n",
    "a = 4\n",
    "b = 3\n",
    "c = 6\n",
    "s = (a + b + c)/2\n",
    "area = math.sqrt((s*(s-a)*(s-b)*(s-c)))\n",
    "print(area)\n",
    "\n"
   ]
  },
  {
   "cell_type": "code",
   "execution_count": null,
   "id": "61161dff",
   "metadata": {},
   "outputs": [],
   "source": []
  },
  {
   "cell_type": "code",
   "execution_count": null,
   "id": "68c1000d",
   "metadata": {},
   "outputs": [],
   "source": [
    "#Ex-3 Q4\n",
    "#Circle area and circumference\n",
    "import math\n",
    "r = float(input(\"Enter the radius please.\\n\"))\n",
    "pi = math.pi\n",
    "print(pi)\n",
    "circumference = round(2*pi*r, 2)\n",
    "area = round(pi*(r**2), 2)\n",
    "print(f\"circumference is {circumference}\")\n",
    "print(f\"Area is {area}\")\n"
   ]
  },
  {
   "cell_type": "code",
   "execution_count": null,
   "id": "6cb997f7",
   "metadata": {},
   "outputs": [],
   "source": []
  },
  {
   "cell_type": "code",
   "execution_count": null,
   "id": "5a935ea0",
   "metadata": {},
   "outputs": [],
   "source": [
    "#Ex-3 Q4\n",
    "#Multiple of 5 checker\n",
    "n = float(input(\"Enter the number please.\\n\"))\n",
    "if n%5 == 0:\n",
    "    print(f\"yes {n} is a multiple of 5 \")\n",
    "else:\n",
    "    print(f\"No {n} is not a multiple of 5 \")"
   ]
  },
  {
   "cell_type": "code",
   "execution_count": null,
   "id": "2faf37f0",
   "metadata": {},
   "outputs": [],
   "source": []
  }
 ],
 "metadata": {
  "kernelspec": {
   "display_name": "Python 3",
   "language": "python",
   "name": "python3"
  },
  "language_info": {
   "codemirror_mode": {
    "name": "ipython",
    "version": 3
   },
   "file_extension": ".py",
   "mimetype": "text/x-python",
   "name": "python",
   "nbconvert_exporter": "python",
   "pygments_lexer": "ipython3",
   "version": "3.8.8"
  }
 },
 "nbformat": 4,
 "nbformat_minor": 5
}
